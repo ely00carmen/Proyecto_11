{
 "cells": [
  {
   "cell_type": "markdown",
   "id": "333d3e15",
   "metadata": {},
   "source": [
    "#### **Extracción de petróleo OilyGiant**"
   ]
  },
  {
   "cell_type": "markdown",
   "id": "871d9d18",
   "metadata": {},
   "source": [
    "Trabajas en la compañía de extracción de petróleo OilyGiant. Tu tarea es encontrar los mejores lugares donde abrir 200 pozos nuevos de petróleo.\n",
    "##### Para completar esta tarea, tendrás que realizar los siguientes pasos:\n",
    "- Leer los archivos con los parámetros recogidos de pozos petrolíferos en la región seleccionada: calidad de crudo y volumen de reservas.\n",
    "- Crear un modelo para predecir el volumen de reservas en pozos nuevos.\n",
    "- Elegir los pozos petrolíferos que tienen los valores estimados más altos.\n",
    "- Elegir la región con el beneficio total más alto para los pozos petrolíferos seleccionados.\n",
    "- Tienes datos sobre muestras de crudo de tres regiones. Ya se conocen los parámetros de cada pozo petrolero de la región. Crea un modelo que ayude a elegir la región con el mayor margen de beneficio. Analiza los beneficios y riesgos potenciales utilizando la técnica bootstrapping.\n",
    "##### Condiciones:\n",
    "- Solo se debe usar la regresión lineal para el entrenamiento del modelo.\n",
    "- Al explorar la región, se lleva a cabo un estudio de 500 puntos con la selección de los mejores 200 puntos para el cálculo del beneficio.\n",
    "- El presupuesto para el desarrollo de 200 pozos petroleros es de 100 millones de dólares.\n",
    "- Un barril de materias primas genera 4.5 USD de ingresos. El ingreso de una unidad de producto es de 4500 dólares (el volumen de reservas está expresado en miles de barriles).\n",
    "- Después de la evaluación de riesgo, mantén solo las regiones con riesgo de pérdidas inferior al 2.5%. De las que se ajustan a los criterios, se debe seleccionar la región con el beneficio promedio más alto.\n",
    "##### Descripción de datos\n",
    "- id: identificador único de pozo de petróleo\n",
    "- f0, f1, f2: tres características de los puntos (su significado específico no es importante, pero las características en sí son significativas)\n",
    "- product: volumen de reservas en el pozo de petróleo (miles de barriles)."
   ]
  },
  {
   "cell_type": "code",
   "execution_count": 2,
   "id": "6bd800f2",
   "metadata": {},
   "outputs": [],
   "source": [
    "#Importar librerías\n",
    "import pandas as pd\n",
    "import numpy as np\n",
    "from sklearn.linear_model import LogisticRegression\n",
    "from sklearn.metrics import accuracy_score\n",
    "from sklearn.model_selection import train_test_split\n",
    "from sklearn.metrics import mean_squared_error\n",
    "from sklearn.linear_model import LinearRegression"
   ]
  },
  {
   "cell_type": "code",
   "execution_count": 5,
   "id": "ea86a6cb",
   "metadata": {},
   "outputs": [
    {
     "name": "stdout",
     "output_type": "stream",
     "text": [
      "      id        f0        f1        f2     product\n",
      "0  txEyH  0.705745 -0.497823  1.221170  105.280062\n",
      "1  2acmU  1.334711 -0.340164  4.365080   73.037750\n",
      "2  409Wp  1.022732  0.151990  1.419926   85.265647\n",
      "3  iJLyR -0.032172  0.139033  2.978566  168.620776\n",
      "4  Xdl7t  1.988431  0.155413  4.751769  154.036647\n",
      "      id         f0         f1        f2     product\n",
      "0  kBEdx -15.001348  -8.276000 -0.005876    3.179103\n",
      "1  62mP7  14.272088  -3.475083  0.999183   26.953261\n",
      "2  vyE1P   6.263187  -5.948386  5.001160  134.766305\n",
      "3  KcrkZ -13.081196 -11.506057  4.999415  137.945408\n",
      "4  AHL4O  12.702195  -8.147433  5.004363  134.766305\n",
      "      id        f0        f1        f2     product\n",
      "0  fwXo0 -1.146987  0.963328 -0.828965   27.758673\n",
      "1  WJtFt  0.262778  0.269839 -2.530187   56.069697\n",
      "2  ovLUW  0.194587  0.289035 -5.586433   62.871910\n",
      "3  q6cA6  2.236060 -0.553760  0.930038  114.572842\n",
      "4  WPMUX -0.515993  1.716266  5.899011  149.600746\n"
     ]
    }
   ],
   "source": [
    "df_0 = pd.read_csv('geo_data_0.csv')\n",
    "df_1 = pd.read_csv('geo_data_1.csv')\n",
    "df_2 = pd.read_csv('geo_data_2.csv')\n",
    "\n",
    "#Explorar los datos\n",
    "print(df_0.head())\n",
    "print(df_1.head())\n",
    "print(df_2.head())"
   ]
  },
  {
   "cell_type": "code",
   "execution_count": 13,
   "id": "ed0907d2",
   "metadata": {},
   "outputs": [
    {
     "name": "stdout",
     "output_type": "stream",
     "text": [
      "<class 'pandas.core.frame.DataFrame'>\n",
      "RangeIndex: 100000 entries, 0 to 99999\n",
      "Data columns (total 5 columns):\n",
      " #   Column   Non-Null Count   Dtype  \n",
      "---  ------   --------------   -----  \n",
      " 0   id       100000 non-null  object \n",
      " 1   f0       100000 non-null  float64\n",
      " 2   f1       100000 non-null  float64\n",
      " 3   f2       100000 non-null  float64\n",
      " 4   product  100000 non-null  float64\n",
      "dtypes: float64(4), object(1)\n",
      "memory usage: 3.8+ MB\n",
      "None\n"
     ]
    }
   ],
   "source": [
    "#Información de los datos\n",
    "print(df_0.info())"
   ]
  },
  {
   "cell_type": "code",
   "execution_count": 14,
   "id": "893f58a3",
   "metadata": {},
   "outputs": [
    {
     "name": "stdout",
     "output_type": "stream",
     "text": [
      "<class 'pandas.core.frame.DataFrame'>\n",
      "RangeIndex: 100000 entries, 0 to 99999\n",
      "Data columns (total 5 columns):\n",
      " #   Column   Non-Null Count   Dtype  \n",
      "---  ------   --------------   -----  \n",
      " 0   id       100000 non-null  object \n",
      " 1   f0       100000 non-null  float64\n",
      " 2   f1       100000 non-null  float64\n",
      " 3   f2       100000 non-null  float64\n",
      " 4   product  100000 non-null  float64\n",
      "dtypes: float64(4), object(1)\n",
      "memory usage: 3.8+ MB\n",
      "None\n",
      "<class 'pandas.core.frame.DataFrame'>\n",
      "RangeIndex: 100000 entries, 0 to 99999\n",
      "Data columns (total 5 columns):\n",
      " #   Column   Non-Null Count   Dtype  \n",
      "---  ------   --------------   -----  \n",
      " 0   id       100000 non-null  object \n",
      " 1   f0       100000 non-null  float64\n",
      " 2   f1       100000 non-null  float64\n",
      " 3   f2       100000 non-null  float64\n",
      " 4   product  100000 non-null  float64\n",
      "dtypes: float64(4), object(1)\n",
      "memory usage: 3.8+ MB\n",
      "None\n"
     ]
    }
   ],
   "source": [
    "print(df_1.info())\n",
    "print(df_2.info())"
   ]
  },
  {
   "cell_type": "code",
   "execution_count": 15,
   "id": "db223a30",
   "metadata": {},
   "outputs": [],
   "source": [
    "# Divide los datos en un conjunto de entrenamiento y un conjunto de validación en una proporción de 75:25\n",
    "def preparar_datos(df, features, target, test_size=0.25, random_state=42):\n",
    "    x_train, x_valid, y_train, y_valid = train_test_split(df[features], df[target],test_size=test_size, random_state=random_state)\n",
    "    return x_train, x_valid, y_train, y_valid\n",
    "#Definir las características y la variable objetivo\n",
    "features = ['f0', 'f1', 'f2']\n",
    "target = 'product'"
   ]
  },
  {
   "cell_type": "code",
   "execution_count": 16,
   "id": "aea64a7e",
   "metadata": {},
   "outputs": [],
   "source": [
    "# Entrena el modelo y haz predicciones para el conjunto de validación.\n",
    "def train_predict(x_train,y_train,x_valid, y_valid):\n",
    "    model = LinearRegression()\n",
    "    model.fit(x_train,y_train)\n",
    "    y_pred = model.predict(x_valid)\n",
    "    mse = mean_squared_error(y_valid, y_pred)\n",
    "    print(f'Mean Squared Error: {mse}')\n",
    "    return model, y_pred"
   ]
  },
  {
   "cell_type": "code",
   "execution_count": 17,
   "id": "cadd88f3",
   "metadata": {},
   "outputs": [
    {
     "name": "stdout",
     "output_type": "stream",
     "text": [
      "Mean Squared Error: 1425.5608700093812\n",
      "Predicciones para geo_data_0: [101.90101715  78.21777385 115.26690103 105.61861791  97.9801849 ]\n"
     ]
    }
   ],
   "source": [
    "# Para geo_data_0.csv\n",
    "x_train_0, x_valid_0, y_train_0, y_valid_0 = preparar_datos(df_0, features, target)\n",
    "model_0, preds_0 = train_predict(x_train_0, y_train_0, x_valid_0, y_valid_0)\n",
    "print(f'Predicciones para geo_data_0: {preds_0[:5]}')\n"
   ]
  },
  {
   "cell_type": "code",
   "execution_count": 18,
   "id": "b7adcda8",
   "metadata": {},
   "outputs": [
    {
     "name": "stdout",
     "output_type": "stream",
     "text": [
      "Mean Squared Error: 0.7925986566392037\n",
      "Predicciones para geo_data_1: [ 8.44738063e-01  5.29216119e+01  1.35110385e+02  1.09494863e+02\n",
      " -4.72915824e-02]\n"
     ]
    }
   ],
   "source": [
    "# Para geo_data_1.csv\n",
    "x_train_1, x_valid_1, y_train_1, y_valid_1 = preparar_datos(df_1, features, target)\n",
    "model_1, preds_1 = train_predict(x_train_1, y_train_1, x_valid_1, y_valid_1)\n",
    "print(f'Predicciones para geo_data_1: {preds_1[:5]}')"
   ]
  },
  {
   "cell_type": "code",
   "execution_count": 19,
   "id": "8248fd12",
   "metadata": {},
   "outputs": [
    {
     "name": "stdout",
     "output_type": "stream",
     "text": [
      "Mean Squared Error: 1611.6910636385903\n",
      "Predicciones para geo_data_2: [ 98.30191642 101.59246124  52.4490989  109.92212707  72.41184733]\n"
     ]
    }
   ],
   "source": [
    "# Para geo_data_2.csv\n",
    "x_train_2, x_valid_2, y_train_2, y_valid_2 = preparar_datos(df_2, features, target)\n",
    "model_2, preds_2 = train_predict(x_train_2, y_train_2, x_valid_2, y_valid_2)\n",
    "print(f'Predicciones para geo_data_2: {preds_2[:5]}')"
   ]
  },
  {
   "cell_type": "markdown",
   "id": "22efb3af",
   "metadata": {},
   "source": [
    "#### Interpretación:\n",
    "geo_data_1 es el más predecible, el modelo logra aprender bien la relación entre las variables f0, f1, f2 y el product. Esto puede deberse a que las variables están más correlacionadas con el objetivo o tienen una distribución más adecuada.\n",
    "\n",
    "geo_data_0 y geo_data_2 tienen ruido o relaciones no lineales, el alto MSE sugiere que el modelo no logra capturar bien la relación, quizá por la naturaleza de los datos o por una mala elección del modelo."
   ]
  },
  {
   "cell_type": "markdown",
   "id": "b7ac2f15",
   "metadata": {},
   "source": [
    "Prepárate para el cálculo de ganancias:\n",
    "Almacena todos los valores necesarios para los cálculos en variables separadas.\n",
    "Dada la inversión de 100 millones por 200 pozos petrolíferos, de media un pozo petrolífero debe producir al menos un valor de 500,000 dólares en unidades para evitar pérdidas (esto es equivalente a 111.1 unidades). Compara esta cantidad con la cantidad media de reservas en cada región.\n",
    "Presenta conclusiones sobre cómo preparar el paso para calcular el beneficio."
   ]
  },
  {
   "cell_type": "code",
   "execution_count": 21,
   "id": "1f5a3ae9",
   "metadata": {},
   "outputs": [
    {
     "name": "stdout",
     "output_type": "stream",
     "text": [
      "Umbral mínimo de producción por pozo para no tener pérdidas: 111.11 unidades\n",
      "Media de reservas por pozo en Región 0: 92.50 unidades\n",
      "Media de reservas por pozo en Región 1: 68.83 unidades\n",
      "Media de reservas por pozo en Región 2: 95.00 unidades\n",
      "Alguna región no supera el umbral mínimo de reservas promedio por pozo. Es necesario analizar el riesgo antes de invertir.\n"
     ]
    }
   ],
   "source": [
    "# Cálculo del umbral mínimo de producción por pozo para no tener pérdidas\n",
    "umbral_unidades = presupuesto / num_pozos / precio_unidad  # 100_000_000 / 200 / 4500 = 111.11 unidades\n",
    "\n",
    "# Calcular la media de reservas por pozo en cada región\n",
    "media_reservas_0 = df_0['product'].mean()\n",
    "media_reservas_1 = df_1['product'].mean()\n",
    "media_reservas_2 = df_2['product'].mean()\n",
    "\n",
    "print(f\"Umbral mínimo de producción por pozo para no tener pérdidas: {umbral_unidades:.2f} unidades\")\n",
    "print(f\"Media de reservas por pozo en Región 0: {media_reservas_0:.2f} unidades\")\n",
    "print(f\"Media de reservas por pozo en Región 1: {media_reservas_1:.2f} unidades\")\n",
    "print(f\"Media de reservas por pozo en Región 2: {media_reservas_2:.2f} unidades\")\n",
    "\n",
    "# Conclusión\n",
    "if (media_reservas_0 > umbral_unidades) and (media_reservas_1 > umbral_unidades) and (media_reservas_2 > umbral_unidades):\n",
    "    print(\"Todas las regiones superan el umbral mínimo de reservas promedio por pozo. Se puede proceder al cálculo de beneficios para seleccionar la mejor región.\")\n",
    "else:\n",
    "    print(\"Alguna región no supera el umbral mínimo de reservas promedio por pozo. Es necesario analizar el riesgo antes de invertir.\")"
   ]
  },
  {
   "cell_type": "markdown",
   "id": "b5c6b334",
   "metadata": {},
   "source": [
    "#### Interpretación\n",
    "geo_data_1 es el modelo más preciso, pero menor potencial económico, el modelo predice con alta precisión (MSE muy bajo).Sin embargo, la producción media por pozo es baja (68.83).No alcanza el umbral mínimo (111.11 unidades) por lo que verificamos que se tiene un riesgo alto de pérdida, a pesar de la certeza del modelo."
   ]
  },
  {
   "cell_type": "markdown",
   "id": "ec5423d7",
   "metadata": {},
   "source": [
    "Escribe una función para calcular la ganancia de un conjunto de pozos de petróleo seleccionados y modela las predicciones:\n",
    "Elige los 200 pozos con los valores de predicción más altos de cada una de las 3 regiones (es decir, archivos 'csv').\n",
    "Resume el volumen objetivo de reservas según dichas predicciones. Almacena las predicciones para los 200 pozos para cada una de las 3 regiones.\n",
    "Calcula la ganancia potencial de los 200 pozos principales por región. Presenta tus conclusiones: propón una región para el desarrollo de pozos petrolíferos y justifica tu elección."
   ]
  },
  {
   "cell_type": "code",
   "execution_count": 22,
   "id": "8be327f8",
   "metadata": {},
   "outputs": [
    {
     "name": "stdout",
     "output_type": "stream",
     "text": [
      "Región 0: Ganancia potencial = $38,966,585, Volumen total estimado = 30881.46 unidades\n",
      "Región 1: Ganancia potencial = $24,869,381, Volumen total estimado = 27748.75 unidades\n",
      "Región 2: Ganancia potencial = $33,779,815, Volumen total estimado = 29728.85 unidades\n",
      "\n",
      "La mejor región para el desarrollo de pozos petrolíferos según las predicciones del modelo es la Región 0 con una ganancia potencial de $38,966,585.\n"
     ]
    }
   ],
   "source": [
    "# Función para calcular la ganancia potencial basada en las predicciones del modelo\n",
    "def calcular_ganancia(predicciones, num_pozos, precio_unidad, presupuesto):\n",
    "    # Selecciona las 200 predicciones más altas\n",
    "    top_preds = np.sort(predicciones)[-num_pozos:]\n",
    "    # Suma el volumen estimado de reservas\n",
    "    suma_reservas = top_preds.sum()\n",
    "    # Calcula la ganancia potencial\n",
    "    ganancia = suma_reservas * precio_unidad - presupuesto\n",
    "    return ganancia, top_preds, suma_reservas\n",
    "\n",
    "# Calcula la ganancia para cada región usando las predicciones del modelo\n",
    "ganancia_0, top_preds_0, suma_reservas_0 = calcular_ganancia(preds_0, num_pozos, precio_unidad, presupuesto)\n",
    "ganancia_1, top_preds_1, suma_reservas_1 = calcular_ganancia(preds_1, num_pozos, precio_unidad, presupuesto)\n",
    "ganancia_2, top_preds_2, suma_reservas_2 = calcular_ganancia(preds_2, num_pozos, precio_unidad, presupuesto)\n",
    "\n",
    "print(f\"Región 0: Ganancia potencial = ${ganancia_0:,.0f}, Volumen total estimado = {suma_reservas_0:.2f} unidades\")\n",
    "print(f\"Región 1: Ganancia potencial = ${ganancia_1:,.0f}, Volumen total estimado = {suma_reservas_1:.2f} unidades\")\n",
    "print(f\"Región 2: Ganancia potencial = ${ganancia_2:,.0f}, Volumen total estimado = {suma_reservas_2:.2f} unidades\")\n",
    "\n",
    "# Conclusión: Selecciona la mejor región\n",
    "ganancias = [ganancia_0, ganancia_1, ganancia_2]\n",
    "mejor_region = np.argmax(ganancias)\n",
    "print(f\"\\nLa mejor región para el desarrollo de pozos petrolíferos según las predicciones del modelo es la Región {mejor_region} con una ganancia potencial de ${ganancias[mejor_region]:,.0f}.\")"
   ]
  },
  {
   "cell_type": "markdown",
   "id": "aa64b5d2",
   "metadata": {},
   "source": [
    "#### Interpretación\n",
    "La región 0 destaca como la mejor opción a pesar de que: el modelo tiene mayor error de predicción (MSE alto) y la producción promedio está por debajo del umbral de rentabilidad.\n",
    "\n",
    "Sin embargo, el modelo genera la mayor ganancia potencial absoluta ($38.97 millones), lo que sugiere que algunos pozos en Región 0 tienen producciones muy altas, compensando los menos productivos."
   ]
  },
  {
   "cell_type": "markdown",
   "id": "1a88e728",
   "metadata": {},
   "source": [
    "Calcula riesgos y ganancias para cada región:\n",
    "Utilizando las predicciones que almacenaste en el paso 4.2, emplea la técnica del bootstrapping con 1000 muestras para hallar la distribución de los beneficios.\n",
    "Encuentra el beneficio promedio, el intervalo de confianza del 95% y el riesgo de pérdidas. La pérdida es una ganancia negativa, calcúlala como una probabilidad y luego exprésala como un porcentaje.\n",
    "Presenta tus conclusiones: propón una región para el desarrollo de pozos petrolíferos y justifica tu elección. ¿Coincide tu elección con la elección anterior en el punto 4.3?"
   ]
  },
  {
   "cell_type": "code",
   "execution_count": 23,
   "id": "805259aa",
   "metadata": {},
   "outputs": [
    {
     "name": "stdout",
     "output_type": "stream",
     "text": [
      "\n",
      "Región 0:\n",
      "Beneficio promedio: $3,317,350.37\n",
      "Intervalo de confianza 95%: [$1,128,321.61, $5,682,449.94]\n",
      "Riesgo de pérdidas: 0.40%\n",
      "\n",
      "Región 1:\n",
      "Beneficio promedio: $4,444,126.09\n",
      "Intervalo de confianza 95%: [$510,758.54, $8,374,254.79]\n",
      "Riesgo de pérdidas: 1.00%\n",
      "\n",
      "Región 2:\n",
      "Beneficio promedio: $2,678,005.39\n",
      "Intervalo de confianza 95%: [$591,261.71, $4,616,520.25]\n",
      "Riesgo de pérdidas: 0.70%\n",
      "\n",
      "Mejor región: 1 con beneficio promedio de $4,444,126.09\n"
     ]
    }
   ],
   "source": [
    "def bootstrap_analysis(predicciones, n_samples=1000, n_pozos=200, precio_unidad=4500, presupuesto=100000000):\n",
    "    beneficios = []\n",
    "    for _ in range(n_samples):\n",
    "        # Tomar muestra aleatoria con reemplazo\n",
    "        muestra = np.random.choice(predicciones, size=500, replace=True)\n",
    "        # Seleccionar los 200 mejores pozos\n",
    "        mejores_pozos = np.sort(muestra)[-n_pozos:]\n",
    "        # Calcular beneficio\n",
    "        beneficio = np.sum(mejores_pozos) * precio_unidad - presupuesto\n",
    "        beneficios.append(beneficio)\n",
    "    \n",
    "    beneficios = np.array(beneficios)\n",
    "    \n",
    "    # Calcular estadísticas\n",
    "    media = np.mean(beneficios)\n",
    "    intervalo = np.percentile(beneficios, [2.5, 97.5])\n",
    "    riesgo = np.mean(beneficios < 0)\n",
    "    \n",
    "    return {\n",
    "        'media': media,\n",
    "        'intervalo': intervalo,\n",
    "        'riesgo': riesgo\n",
    "    }\n",
    "\n",
    "# Analizar cada región\n",
    "resultados = []\n",
    "for i, preds in enumerate([preds_0, preds_1, preds_2]):\n",
    "    res = bootstrap_analysis(preds)\n",
    "    resultados.append({\n",
    "        'region': i,\n",
    "        'media': res['media'],\n",
    "        'riesgo': res['riesgo']\n",
    "    })\n",
    "    print(f\"\\nRegión {i}:\")\n",
    "    print(f\"Beneficio promedio: ${res['media']:,.2f}\")\n",
    "    print(f\"Intervalo de confianza 95%: [${res['intervalo'][0]:,.2f}, ${res['intervalo'][1]:,.2f}]\")\n",
    "    print(f\"Riesgo de pérdidas: {res['riesgo']*100:.2f}%\")\n",
    "\n",
    "# Filtrar regiones por riesgo y seleccionar la mejor\n",
    "regiones_validas = [r for r in resultados if r['riesgo'] < 0.025]\n",
    "mejor = max(regiones_validas, key=lambda x: x['media'])\n",
    "\n",
    "print(f\"\\nMejor región: {mejor['region']} con beneficio promedio de ${mejor['media']:,.2f}\")"
   ]
  },
  {
   "cell_type": "markdown",
   "id": "18ab48c8",
   "metadata": {},
   "source": [
    "#### Análisis y Decisión\n",
    "##### Región 1 ofrece:\n",
    "- El beneficio promedio más alto → mejor rendimiento esperado.\n",
    "\n",
    "- Pero también mayor dispersión (IC más amplio) y un riesgo de pérdidas mayor (1%).\n",
    "\n",
    "##### Región 0 es más conservadora:\n",
    "\n",
    "- Menor beneficio esperado, pero riesgo muy bajo (0.40%).\n",
    "\n",
    "##### Región 2 tiene el peor rendimiento esperado y no destaca ni por bajo riesgo ni por alto retorno."
   ]
  },
  {
   "cell_type": "markdown",
   "id": "0e3013b7",
   "metadata": {},
   "source": [
    "Aunque Región 0 tenía la mayor ganancia potencial total, el análisis estadístico muestra que Región 1 es la más prometedora en términos de retorno promedio, con una aceptable exposición al riesgo."
   ]
  }
 ],
 "metadata": {
  "kernelspec": {
   "display_name": ".conda",
   "language": "python",
   "name": "python3"
  },
  "language_info": {
   "codemirror_mode": {
    "name": "ipython",
    "version": 3
   },
   "file_extension": ".py",
   "mimetype": "text/x-python",
   "name": "python",
   "nbconvert_exporter": "python",
   "pygments_lexer": "ipython3",
   "version": "3.11.13"
  }
 },
 "nbformat": 4,
 "nbformat_minor": 5
}
